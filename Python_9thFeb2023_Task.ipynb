{
 "cells": [
  {
   "cell_type": "markdown",
   "id": "e0cad0fe",
   "metadata": {},
   "source": [
    "### Q1, Create a vehicle class with an init method having instance variables as name_of_vehicle, max_speed and average_of_vehicle. \n"
   ]
  },
  {
   "cell_type": "code",
   "execution_count": 1,
   "id": "31825e08",
   "metadata": {},
   "outputs": [
    {
     "data": {
      "text/plain": [
       "\"Vehicle's name is Truck and its max_speed is 80km/h and average of vehicle is 15 years\""
      ]
     },
     "execution_count": 1,
     "metadata": {},
     "output_type": "execute_result"
    }
   ],
   "source": [
    "class vehicle:\n",
    "    def __init__(self,name,max_speed,average_of_vehicle):\n",
    "        self.name=name\n",
    "        self.max_speed=max_speed\n",
    "        self.average_of_vehicle=average_of_vehicle\n",
    "    def return_details(self):\n",
    "        return f\"Vehicle's name is {self.name} and its max_speed is {self.max_speed} and average of vehicle is {self.average_of_vehicle}\"\n",
    "vehicle_1=vehicle(\"Truck\",\"80km/h\",\"15 years\").return_details()\n",
    "vehicle_1"
   ]
  },
  {
   "cell_type": "markdown",
   "id": "9cc55b33",
   "metadata": {},
   "source": [
    "### Q2.  Create a child class car from the vehicle class created in Que 1, which will inherit the vehicle class. Create a method named seating_capacity which takes capacity as an argument and returns the name of the vehicle and its seating capacity.\n"
   ]
  },
  {
   "cell_type": "code",
   "execution_count": 2,
   "id": "fb46929e",
   "metadata": {},
   "outputs": [
    {
     "data": {
      "text/plain": [
       "\"Vehicle's name is Toyota and its seating capasity is 3\""
      ]
     },
     "execution_count": 2,
     "metadata": {},
     "output_type": "execute_result"
    }
   ],
   "source": [
    "class car(vehicle):\n",
    "    def seating_capasity(self,s_capasity):\n",
    "        self.s_capasity=s_capasity\n",
    "    def return_car_details(self):\n",
    "        return f\"Vehicle's name is {self.name} and its seating capasity is {self.s_capasity}\"\n",
    "\n",
    "toyota=car(\"Toyota\",\"80km/h\",\"15 years\")\n",
    "toyota.seating_capasity(3)\n",
    "toyota.return_car_details()"
   ]
  },
  {
   "cell_type": "markdown",
   "id": "30580371",
   "metadata": {},
   "source": [
    "### Q3. What is multiple inheritance? Write a python code to demonstrate multiple inheritance."
   ]
  },
  {
   "cell_type": "code",
   "execution_count": 3,
   "id": "ce257b3a",
   "metadata": {},
   "outputs": [
    {
     "name": "stdout",
     "output_type": "stream",
     "text": [
      "\n",
      "Multiple Inheritance\n",
      "\n",
      "I am parent class father\n",
      "I am parent class mother\n",
      "I am child class of both father and mother class\n"
     ]
    }
   ],
   "source": [
    "#### Multiple inheritance is one of the 5 types of inheritances defined in \n",
    "#### python programming language\n",
    "#### Inheritance means inherits any property\n",
    "#### In multiple inheritance the child class inherits not only from \n",
    "#### one class but also from multiple classes\n",
    "#### As here the sub-class inherits property , methods from many \n",
    "#### super classes so this kind of inheritance is called \n",
    "#### Multiple Inheritance\n",
    "\n",
    "print(\"\\nMultiple Inheritance\\n\")\n",
    "class parent_father:\n",
    "    def super_class(self):\n",
    "        print(\"I am parent class father\")\n",
    "class parent_mother:\n",
    "    def super_class2(self):\n",
    "        print(\"I am parent class mother\")\n",
    "class child(parent_father,parent_mother):\n",
    "    def sub_class(self):\n",
    "        print(\"I am child class of both father and mother class\")\n",
    "child2=child()\n",
    "child2.super_class()\n",
    "child2.super_class2()\n",
    "child2.sub_class()\n"
   ]
  },
  {
   "cell_type": "markdown",
   "id": "292bce46",
   "metadata": {},
   "source": [
    "### Q4. What are getter and setter in python? Create a class and create a getter and a setter method in this class."
   ]
  },
  {
   "cell_type": "code",
   "execution_count": 4,
   "id": "994adf57",
   "metadata": {},
   "outputs": [
    {
     "name": "stdout",
     "output_type": "stream",
     "text": [
      "Getter & Setter...\n",
      "\n",
      "Default values for Animal :: Australian Cow 4 legs 1 head 2 horns....\n",
      "Changed name of Cow is  Spanish Cow\n",
      "Default values for Animal :: Germant Cow 6 legs 1 head 4 horns....\n"
     ]
    }
   ],
   "source": [
    "#### Getter is a method that allows us to access an attribute \n",
    "#### in a given class. \n",
    "#### setter is a method that allows us to set or altar the value \n",
    "#### of an attribute in a class\n",
    "\n",
    "print('Getter & Setter...\\n')\n",
    "class animal:\n",
    "    def __init__(self,name,legs,head,horn):\n",
    "        \n",
    "        ## __ means private variables\n",
    "        self.__name=name\n",
    "        self.__legs=legs\n",
    "        self.__head=head\n",
    "        self.__horn=horn\n",
    "        print(\"Default values for Animal ::\",self.__name,self.__legs,self.__head,self.__horn)\n",
    "    def set_name(self,name):\n",
    "        self.__name=name\n",
    "    def get_name(self):\n",
    "        return self.__name\n",
    "\n",
    "cow=animal(\"Australian Cow\",\"4 legs\",\"1 head\",\"2 horns....\")\n",
    "cow.set_name(\"Spanish Cow\")\n",
    "print(\"Changed name of Cow is \",cow.get_name())\n",
    "cow._animal__name=\"Germant Cow\"\n",
    "cow._animal__legs=\"6 legs\"\n",
    "cow.__init__(cow._animal__name,cow._animal__legs,\"1 head\",\"4 horns....\")"
   ]
  },
  {
   "cell_type": "markdown",
   "id": "e243f795",
   "metadata": {},
   "source": [
    "### Q5.What is method overriding in python? Write a python code to demonstrate method overriding"
   ]
  },
  {
   "cell_type": "code",
   "execution_count": 5,
   "id": "14cf5332",
   "metadata": {},
   "outputs": [
    {
     "name": "stdout",
     "output_type": "stream",
     "text": [
      "I am class A method\n",
      "I am class B and overrides method of class A\n"
     ]
    }
   ],
   "source": [
    "#### A feature of object-oriented programming languages is method overriding\n",
    "#### It allows the subclass or child class to give the program particular \n",
    "#### traits or a particular way to implement data that has already been \n",
    "#### defined in the parent class or superclass.\n",
    "\n",
    "#### The implementation method in the subclass overrides the method \n",
    "#### described in the parent class when the same returns, parameters, \n",
    "#### or name are input in the subclass as in the parent class. \n",
    "#### This is Method overriding\n",
    "\n",
    "\n",
    "class A:\n",
    "    def method(self):\n",
    "        print(\"I am class A method\")\n",
    "class B(A):\n",
    "    def method(self):\n",
    "        print(\"I am class B and overrides method of class A\")\n",
    "\n",
    "obj_A=A()\n",
    "obj_A.method()\n",
    "obj_B=B()\n",
    "obj_B.method()"
   ]
  },
  {
   "cell_type": "code",
   "execution_count": null,
   "id": "6651a436",
   "metadata": {},
   "outputs": [],
   "source": []
  }
 ],
 "metadata": {
  "kernelspec": {
   "display_name": "Python 3 (ipykernel)",
   "language": "python",
   "name": "python3"
  },
  "language_info": {
   "codemirror_mode": {
    "name": "ipython",
    "version": 3
   },
   "file_extension": ".py",
   "mimetype": "text/x-python",
   "name": "python",
   "nbconvert_exporter": "python",
   "pygments_lexer": "ipython3",
   "version": "3.9.13"
  }
 },
 "nbformat": 4,
 "nbformat_minor": 5
}
