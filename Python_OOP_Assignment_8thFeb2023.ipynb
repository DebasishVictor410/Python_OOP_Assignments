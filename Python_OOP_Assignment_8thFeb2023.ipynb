{
 "cells": [
  {
   "cell_type": "markdown",
   "id": "5f4d632b",
   "metadata": {},
   "source": [
    "### Q1. What is Abstraction in OOps? Explain with an example."
   ]
  },
  {
   "cell_type": "code",
   "execution_count": 2,
   "id": "fff534f9",
   "metadata": {},
   "outputs": [
    {
     "name": "stdout",
     "output_type": "stream",
     "text": [
      "Example...\n",
      "Toyota's Engine has started\n",
      "Toyota car is running at 500m/s\n"
     ]
    }
   ],
   "source": [
    "#### Abstraction is the process which hides the details \n",
    "#### Its an application which allows to implement its methods from the \n",
    "#### other class\n",
    "#### Abstraction canbe easily described.\n",
    "#### It’s genearates a curtain or wall between user and developers\n",
    "#### It gives us security along with flexibility to implement code  \n",
    "#### We can implement our code with our own way\n",
    "\n",
    "print(\"Example...\")\n",
    "import abc\n",
    "class car:\n",
    "    @abc.abstractmethod\n",
    "    def started_engine(self):\n",
    "        pass\n",
    "    \n",
    "    @abc.abstractmethod\n",
    "    def started_running(self):\n",
    "        pass\n",
    "class toyota(car):\n",
    "    def started_engine(self):\n",
    "        return \"Toyota's Engine has started\"\n",
    "    def started_running(self):\n",
    "        return \"Toyota car is running at 500m/s\"\n",
    "    \n",
    "t_car=toyota()\n",
    "print(t_car.started_engine())\n",
    "print(t_car.started_running())"
   ]
  },
  {
   "cell_type": "markdown",
   "id": "391a4a57",
   "metadata": {},
   "source": [
    "### Q2. Differentiate between Abstraction and Encapsulation. \n",
    "###     Explain with an example.\n"
   ]
  },
  {
   "cell_type": "code",
   "execution_count": 3,
   "id": "a0d7f3d3",
   "metadata": {},
   "outputs": [
    {
     "name": "stdout",
     "output_type": "stream",
     "text": [
      "Abstraction Example::: \n",
      "\n",
      "Course name is Data Science Masters\n",
      "Course timing is from monday to thrusday \n",
      "\n",
      "Course name is Web Development\n",
      "Course timing is from friday to monday\n",
      "Course syllabus is from HTML to PHP\n",
      "Course will be taken by Naveen Reddy\n",
      "\n",
      "\n",
      "Encapsulation Example:::\n",
      "\n",
      "0\n",
      "Isn't possible\n",
      "50000\n",
      "50000\n"
     ]
    }
   ],
   "source": [
    "#### Abstraction and Encapsulation both serve the purpose of data hiding\n",
    "#### Both of them do that in their own way\n",
    "#### In abstraction, there is a parent class which is also in encapsulation\n",
    "#### In abstraction in parent class methods are not implemented\n",
    "#### that class is abstract class\n",
    "#### We can implement those abstract method in child class using inheritance\n",
    "#### It gives the progrmmers that freedom to implement those methods\n",
    "#### in their own style\n",
    "#### Encapsulation encapsulate the variables , methods or functions\n",
    "#### It does so with private modifier or protected modifier\n",
    "#### The main purpose of it is to secure data so that data can not be tempered\n",
    "#### But it gives us flexibility to modify that using that's predefined \n",
    "#### method or function\n",
    "#### We can compare it with getter and setter method of Java\n",
    "#### Both hides data along with secuirity\n",
    "#### Both of them hides data from the user and if you want to access them \n",
    "#### we must follow some protocols defined by those pillars\n",
    "\n",
    "\n",
    "print(\"Abstraction Example::: \\n\")\n",
    "import abc\n",
    "class courses:\n",
    "    @abc.abstractmethod\n",
    "    def course_name(self):\n",
    "        pass\n",
    "    \n",
    "    @abc.abstractmethod\n",
    "    def course_timing(self):\n",
    "        pass\n",
    "    \n",
    "    @abc.abstractmethod\n",
    "    def course_syllabus(self):\n",
    "        pass\n",
    "\n",
    "class data_science(courses):\n",
    "    def course_name(self):\n",
    "        return \"Course name is Data Science Masters\"\n",
    "    def course_timing(self):\n",
    "        return \"Course timing is from monday to thrusday\"\n",
    "    \n",
    "dsm=data_science()\n",
    "print(dsm.course_name())\n",
    "print(dsm.course_timing(),'\\n')\n",
    "\n",
    "class web_development(courses):\n",
    "    def course_name(self):\n",
    "        return \"Course name is Web Development\"\n",
    "    def course_timing(self):\n",
    "        return \"Course timing is from friday to monday\"\n",
    "    def course_syllabus(self):\n",
    "        return \"Course syllabus is from HTML to PHP\"\n",
    "    def course_instructor(self):\n",
    "        return \"Course will be taken by Naveen Reddy\"\n",
    "    \n",
    "wd=web_development()\n",
    "print(wd.course_name())\n",
    "print(wd.course_timing())\n",
    "print(wd.course_syllabus())\n",
    "print(wd.course_instructor())\n",
    "\n",
    "print('\\n')\n",
    "print('Encapsulation Example:::\\n')\n",
    "class bank_account:\n",
    "    def __init__(self,balance):\n",
    "        self.__balance=balance\n",
    "    def deposit(self,amount):\n",
    "        self.__balance=self.__balance+amount\n",
    "    def withdraw(self,amount):\n",
    "        self.__balance=\"Isn't possible\" if self.__balance<amount else self.__balance-amount\n",
    "    def set_balance(self,amount):\n",
    "        self.__balance=amount\n",
    "    def get__balance(self):\n",
    "        return self.__balance\n",
    "\n",
    "account1=bank_account(0)\n",
    "print(account1.get__balance())\n",
    "account1.withdraw(5000)\n",
    "print(account1.get__balance())\n",
    "account1.set_balance(50000)\n",
    "print(account1.get__balance())\n",
    "print(account1._bank_account__balance)"
   ]
  },
  {
   "cell_type": "markdown",
   "id": "5ce16a14",
   "metadata": {},
   "source": [
    "### Q3. What is abc module in python? Why is it used?\n"
   ]
  },
  {
   "cell_type": "code",
   "execution_count": 4,
   "id": "9c37986b",
   "metadata": {},
   "outputs": [],
   "source": [
    "#### The 'abc' provides the infrastructure for abstraction\n",
    "#### It is defined in the Python library \n",
    "#### It is helpful for defining custom abstract class \n",
    "#### 'abc' works by making those methods of that class as abstract type\n",
    "#### For making a method abstract we use decorator\n",
    "#### Decorator actually decorates that class\n",
    "#### The @abc.abstractmethod decorator handles this."
   ]
  },
  {
   "cell_type": "markdown",
   "id": "80291e2b",
   "metadata": {},
   "source": [
    "### Q4. How can we achieve data abstraction?"
   ]
  },
  {
   "cell_type": "code",
   "execution_count": 5,
   "id": "9a2fa4ee",
   "metadata": {},
   "outputs": [],
   "source": [
    "#### Data abstraction canbe achieved by generating abstract class\n",
    "#### we can create abstract class by importing abc module\n",
    "#### but we have to use @abc.abstractmethod for binding\n",
    "#### making it as abstract class\n",
    "#### in abstract class methods are declared\n",
    "#### but those methods are not defined or implemented\n",
    "#### other classes inherits that abstract class \n",
    "#### those classes which inherits the abstract class that class implements\n",
    "#### those undefined methods\n",
    "#### we can also add our own custom methods to that inheried classes\n",
    "#### actually by abstracion we give the opportunity of mofification\n",
    "#### thus we can acheive data abstraction"
   ]
  },
  {
   "cell_type": "markdown",
   "id": "03a1247b",
   "metadata": {},
   "source": [
    "### Q5. Can we create an instance of an abstract class? \n",
    "###    Explain your answer"
   ]
  },
  {
   "cell_type": "code",
   "execution_count": 6,
   "id": "3c75f9aa",
   "metadata": {},
   "outputs": [],
   "source": [
    "#### Cannot create an instance for abstract class\n",
    "#### As in python there canbe many methods in abstract class\n",
    "#### but first and foremost in abstract class we cannot implement \n",
    "#### those methods\n",
    "#### As those methods are not defined in abstract class \n",
    "#### so it is not possible to create an instance from abstract class\n",
    "#### yes its true that we cannot do that directly\n",
    "#### but we can create another class and if that class inherits \n",
    "#### that abstract class then we can implement those methods\n",
    "#### after that we can create an object for that subclass and\n",
    "#### access those methods but directly its not possible"
   ]
  },
  {
   "cell_type": "code",
   "execution_count": null,
   "id": "e4ece40a",
   "metadata": {},
   "outputs": [],
   "source": []
  }
 ],
 "metadata": {
  "kernelspec": {
   "display_name": "Python 3 (ipykernel)",
   "language": "python",
   "name": "python3"
  },
  "language_info": {
   "codemirror_mode": {
    "name": "ipython",
    "version": 3
   },
   "file_extension": ".py",
   "mimetype": "text/x-python",
   "name": "python",
   "nbconvert_exporter": "python",
   "pygments_lexer": "ipython3",
   "version": "3.9.13"
  }
 },
 "nbformat": 4,
 "nbformat_minor": 5
}
