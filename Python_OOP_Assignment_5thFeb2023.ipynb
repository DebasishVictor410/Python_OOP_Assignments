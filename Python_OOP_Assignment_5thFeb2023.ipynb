{
 "cells": [
  {
   "cell_type": "markdown",
   "id": "71cbf1b6",
   "metadata": {},
   "source": [
    "### Q1. Explain Class and Object with respect to Object-Oriented Programming. Give a suitable example."
   ]
  },
  {
   "cell_type": "code",
   "execution_count": 1,
   "id": "0bbfe4bb",
   "metadata": {},
   "outputs": [
    {
     "name": "stdout",
     "output_type": "stream",
     "text": [
      "Example of Class...\n",
      "\n",
      "Example of Object\n"
     ]
    }
   ],
   "source": [
    "#### Class is a bluprint where object is the real world entity\n",
    "#### Class is a kind of template \n",
    "#### And based on these templates we create real life entities which is object\n",
    "#### As an example int is a class and 5 is the variable of that int class type\n",
    "#### Object is also instance variable\n",
    "#### We can also imagine class as an container \n",
    "#### And object as content of that container\n",
    "\n",
    "print(\"Example of Class...\")\n",
    "class animal:\n",
    "    def __init__(cow,head,leg,ear):\n",
    "        cow.haed=head\n",
    "        cow.leg=leg\n",
    "        cow.ear=ear\n",
    "    def return_animal_body(cow):\n",
    "        return cow.haed,cow.leg,cow.ear\n",
    "    \n",
    "#### Here is animal is a class or a blueprint\n",
    "dog=animal('Dog Head','4 Leg',\"2 Ears\")\n",
    "\n",
    "print()\n",
    "print(\"Example of Object\")\n",
    "#### Here we are creating an object of animal class which has \n",
    "#### the class properties such as head, leg, ear\n",
    "\n"
   ]
  },
  {
   "cell_type": "markdown",
   "id": "7a6fda05",
   "metadata": {},
   "source": [
    "### Q2. Name the four pillars of OOPs."
   ]
  },
  {
   "cell_type": "code",
   "execution_count": 2,
   "id": "95eecd23",
   "metadata": {},
   "outputs": [],
   "source": [
    "#### Four pillars of OOP:\n",
    "####      1. Inheritance\n",
    "####      2. Encapsulation\n",
    "####      3. Polymorphism\n",
    "####      4. Abstraction\n",
    "    "
   ]
  },
  {
   "cell_type": "markdown",
   "id": "e02f6aee",
   "metadata": {},
   "source": [
    "### Q3. Explain why the __init__() function is used. Give a suitable example."
   ]
  },
  {
   "cell_type": "code",
   "execution_count": 3,
   "id": "57c07eca",
   "metadata": {},
   "outputs": [
    {
     "name": "stdout",
     "output_type": "stream",
     "text": [
      "Toyota Car Has ('Engine', '6 Wheel', 'Hybrid AC')\n"
     ]
    }
   ],
   "source": [
    "#### __init__ function is a constructor for python\n",
    "#### Everytime for the very first time constructor is called\n",
    "#### Even if every OOP supported language supports constructor\n",
    "#### Actually constructor is by default here in every OOP languages\n",
    "#### With that python class understands its own properties\n",
    "#### It means that the arguments we passed belongs to that class\n",
    "#### This connection or this binding those passed argument to that particular \n",
    "#### class is done by __init__ function\n",
    "#### and with the helf of self keyword\n",
    "#### We can use any name instead of self keyword\n",
    "#### actually it works as a linker\n",
    "\n",
    "class car:\n",
    "    def __init__(self,engine,wheel,cooling):\n",
    "        self.engine=engine\n",
    "        self.wheel=wheel\n",
    "        self.cooling=cooling\n",
    "    def return_car_template(self):\n",
    "        return self.engine,self.wheel,self.cooling\n",
    "toyota=car(\"Engine\",\"6 Wheel\",\"Hybrid AC\").return_car_template()\n",
    "print(\"Toyota Car Has\",toyota)\n"
   ]
  },
  {
   "cell_type": "markdown",
   "id": "2c21a346",
   "metadata": {},
   "source": [
    "### Q4. Why self is used in OOPs?"
   ]
  },
  {
   "cell_type": "code",
   "execution_count": 4,
   "id": "0e20e11e",
   "metadata": {},
   "outputs": [],
   "source": [
    "#### We use self beacuse we want to bind the passed parameters to that class\n",
    "#### Unless that self keyword python interpreter doesnot know that \n",
    "#### those passed variable related to that specific class\n",
    "#### Whenever we need that particular variable \n",
    "#### we can get those by using this with the help of self keyword like...\n",
    "#### self.variable_name\n",
    "#### Actually it works as a reference or connector for that decalred class\n",
    "#### We can compare it with pointer also\n",
    "#### In Java which is a OOP language there we use this keyword\n",
    "#### It is as simillar as this self keyword\n",
    "#### Which refers that particular class\n",
    "#### Or pointing that class"
   ]
  },
  {
   "cell_type": "markdown",
   "id": "7f12d6bf",
   "metadata": {},
   "source": [
    "### Q5. What is inheritance? Give an example for each type of inheritance"
   ]
  },
  {
   "cell_type": "code",
   "execution_count": 5,
   "id": "73f15469",
   "metadata": {},
   "outputs": [
    {
     "name": "stdout",
     "output_type": "stream",
     "text": [
      "Single Inheritance\n",
      "\n",
      "I am parent class\n",
      "I am child class\n",
      "\n",
      "Multiple Inheritance\n",
      "\n",
      "I am parent class father\n",
      "I am parent class mother\n",
      "I am child class of both father and mother class\n",
      "\n",
      "Multilevel Inheritance\n",
      "\n",
      "I am grand father class\n",
      "I am father class inherits grand_super_class\n",
      "I am child class inherits father_class\n",
      "\n",
      "Hierarchical Inheritance\n",
      "\n",
      "I am parent class\n",
      "I am child_1 class inherits parent class\n",
      "I am parent class\n",
      "I am child_2 class inherits parent class\n",
      "\n",
      "Hybrid Inheritance\n",
      "\n",
      "Model : Repjol\n",
      "Price : 50000\n",
      "Inherits bike and vehicle class both\n"
     ]
    }
   ],
   "source": [
    "#### inheritance is a process by which we can achieve our heritage properties \n",
    "#### which actually belongs to another class \n",
    "#### Which class inherits another class that class is called \n",
    "#### child class or sub-class\n",
    "#### other class is called parent class or super-class\n",
    "\n",
    "#### There are 5 base types of that\n",
    "####      Single Inheritance\n",
    "####      Multiple Inheritance\n",
    "####      Multilevel Inheritance\n",
    "####      Hierarchical Inheritance\n",
    "####      Hybrid Inheritance\n",
    "\n",
    "\n",
    "print(\"Single Inheritance\\n\")\n",
    "class parent:\n",
    "    def super_class(self):\n",
    "        print(\"I am parent class\")\n",
    "class child(parent):\n",
    "    def sub_class(self):\n",
    "        print(\"I am child class\")\n",
    "child1=child()\n",
    "child1.super_class()\n",
    "child1.sub_class()\n",
    "\n",
    "print(\"\\nMultiple Inheritance\\n\")\n",
    "class parent_father:\n",
    "    def super_class(self):\n",
    "        print(\"I am parent class father\")\n",
    "class parent_mother:\n",
    "    def super_class2(self):\n",
    "        print(\"I am parent class mother\")\n",
    "class child(parent_father,parent_mother):\n",
    "    def sub_class(self):\n",
    "        print(\"I am child class of both father and mother class\")\n",
    "child2=child()\n",
    "child2.super_class()\n",
    "child2.super_class2()\n",
    "child2.sub_class()\n",
    "\n",
    "print(\"\\nMultilevel Inheritance\\n\")\n",
    "class grand_father:\n",
    "    def grand_super_class(self):\n",
    "        print(\"I am grand father class\")\n",
    "class father(grand_father):\n",
    "    def super_class(self):\n",
    "        print(\"I am father class inherits grand_super_class\")\n",
    "class child(father):\n",
    "    def sub_class(self):\n",
    "        print(\"I am child class inherits father_class\")\n",
    "child3=child()\n",
    "child3.grand_super_class()\n",
    "child3.super_class()\n",
    "child3.sub_class()\n",
    "\n",
    "print(\"\\nHierarchical Inheritance\\n\")\n",
    "class parent:\n",
    "    def super_class(self):\n",
    "        print(\"I am parent class\")\n",
    "class child_1(parent):\n",
    "    def sub_class_1(self):\n",
    "        print(\"I am child_1 class inherits parent class\")\n",
    "class child_2(parent):\n",
    "    def sub_class_2(self):\n",
    "        print(\"I am child_2 class inherits parent class\")\n",
    "child1=child_1()\n",
    "child2=child_2()\n",
    "child1.super_class()\n",
    "child1.sub_class_1()\n",
    "child2.super_class()\n",
    "child2.sub_class_2()\n",
    "\n",
    "print(\"\\nHybrid Inheritance\\n\")\n",
    "class vehicle:\n",
    "    \n",
    "    def __init__(self,model):\n",
    "        self.model = model\n",
    "        \n",
    "    def show_details(self):\n",
    "        print(f'Model : {self.model}')\n",
    "                \n",
    "class bike(vehicle):\n",
    "    def __init__(self,model,price):\n",
    "        super().__init__(model)\n",
    "        self.price=price\n",
    "        \n",
    "    def show_details(self):\n",
    "        super().show_details()\n",
    "        print(f'Price : {self.price}')\n",
    "\n",
    "class car(bike,vehicle):\n",
    "    \n",
    "    def both(self):\n",
    "        print('Inherits bike and vehicle class both')\n",
    "\n",
    "bike1= bike(\"Repjol\",50000)\n",
    "car1= car(\"Tata\",650000)\n",
    "\n",
    "bike1.show_details()\n",
    "car1.both()"
   ]
  }
 ],
 "metadata": {
  "kernelspec": {
   "display_name": "Python 3 (ipykernel)",
   "language": "python",
   "name": "python3"
  },
  "language_info": {
   "codemirror_mode": {
    "name": "ipython",
    "version": 3
   },
   "file_extension": ".py",
   "mimetype": "text/x-python",
   "name": "python",
   "nbconvert_exporter": "python",
   "pygments_lexer": "ipython3",
   "version": "3.9.13"
  }
 },
 "nbformat": 4,
 "nbformat_minor": 5
}
